{
 "cells": [
  {
   "cell_type": "markdown",
   "id": "5758c652",
   "metadata": {},
   "source": [
    "# A"
   ]
  },
  {
   "cell_type": "code",
   "execution_count": 57,
   "id": "4bf75cfd",
   "metadata": {},
   "outputs": [
    {
     "name": "stdout",
     "output_type": "stream",
     "text": [
      "Side A: 3\n",
      "Side B:4\n",
      "Side C:5\n"
     ]
    }
   ],
   "source": [
    "import math\n",
    "a=1\n",
    "b=1\n",
    "c=1\n",
    "a=int(input('Side A: '))\n",
    "b=int(input('Side B:'))\n",
    "c=int(input('Side C:'))\n",
    "def area(a,b,c):\n",
    "    a=1\n",
    "    b=1\n",
    "    c=1\n",
    "    a=int(input('Side A: '))\n",
    "    b=int(input('Side B:'))\n",
    "    c=int(input('Side C:'))\n",
    "    area1=0\n",
    "    s=(a+b+c)/2\n",
    "    return math.sqrt(s*(s-a)*(s-b)*(s-c))\n",
    "    print('The Area of the triangle is:')\n",
    "def perim(a,b,c):\n",
    "    a=1\n",
    "    b=1\n",
    "    c=1\n",
    "    a=int(input('Side A: '))\n",
    "    b=int(input('Side B:'))\n",
    "    c=int(input('Side C:'))\n",
    "    return a+b+c"
   ]
  },
  {
   "cell_type": "code",
   "execution_count": 55,
   "id": "04237426",
   "metadata": {},
   "outputs": [
    {
     "name": "stdout",
     "output_type": "stream",
     "text": [
      "Side A: 6\n",
      "Side B:7\n",
      "Side C:8\n"
     ]
    },
    {
     "data": {
      "text/plain": [
       "20.33316256758894"
      ]
     },
     "execution_count": 55,
     "metadata": {},
     "output_type": "execute_result"
    }
   ],
   "source": [
    "area(a,b,c)"
   ]
  },
  {
   "cell_type": "code",
   "execution_count": 56,
   "id": "960f8fad",
   "metadata": {},
   "outputs": [
    {
     "name": "stdout",
     "output_type": "stream",
     "text": [
      "Side A: 6\n",
      "Side B:7\n",
      "Side C:8\n"
     ]
    },
    {
     "data": {
      "text/plain": [
       "21"
      ]
     },
     "execution_count": 56,
     "metadata": {},
     "output_type": "execute_result"
    }
   ],
   "source": [
    "perim(a,b,c)"
   ]
  },
  {
   "cell_type": "markdown",
   "id": "02a09ae7",
   "metadata": {},
   "source": [
    "# B"
   ]
  },
  {
   "cell_type": "code",
   "execution_count": 46,
   "id": "7e3690de",
   "metadata": {},
   "outputs": [],
   "source": [
    "import random\n",
    "def guess():\n",
    "    i=0\n",
    "    w=random.randrange(1,1000)\n",
    "    while i!=w:\n",
    "        i=int(input('Guess a number from 1-1000: '))\n",
    "        if i>w:\n",
    "            print('Guess is too large. Try Again')\n",
    "        elif i<w:\n",
    "            print('Guess is too small. Try Again')\n",
    "        else:\n",
    "            print('Correct!')"
   ]
  },
  {
   "cell_type": "code",
   "execution_count": 47,
   "id": "4cfacdbf",
   "metadata": {},
   "outputs": [
    {
     "name": "stdout",
     "output_type": "stream",
     "text": [
      "Guess a number from 1-1000: 3\n",
      "Guess is too small. Try Again\n",
      "Guess a number from 1-1000: 9\n",
      "Guess is too large. Try Again\n",
      "Guess a number from 1-1000: 6\n",
      "Guess is too small. Try Again\n",
      "Guess a number from 1-1000: 8\n",
      "Correct!\n"
     ]
    }
   ],
   "source": [
    "guess()"
   ]
  },
  {
   "cell_type": "markdown",
   "id": "34ae10bc",
   "metadata": {},
   "source": [
    "# C"
   ]
  },
  {
   "cell_type": "code",
   "execution_count": 52,
   "id": "8cf3c8bb",
   "metadata": {},
   "outputs": [],
   "source": [
    "def meanTemp(*args):\n",
    "    w=0    \n",
    "    a=len(args)\n",
    "    for i in args:\n",
    "        w=w+i\n",
    "    print('The average tempature over the past',a,'days has been',w/a,'degrees farenheit.')"
   ]
  },
  {
   "cell_type": "code",
   "execution_count": 53,
   "id": "1ee27c5f",
   "metadata": {},
   "outputs": [
    {
     "name": "stdout",
     "output_type": "stream",
     "text": [
      "The average tempature over the past 5 days has been 75.2 degrees farenheit.\n"
     ]
    }
   ],
   "source": [
    "meanTemp(66,89,88,43,90)"
   ]
  },
  {
   "cell_type": "code",
   "execution_count": null,
   "id": "5933bc27",
   "metadata": {},
   "outputs": [],
   "source": []
  }
 ],
 "metadata": {
  "kernelspec": {
   "display_name": "Python 3 (ipykernel)",
   "language": "python",
   "name": "python3"
  },
  "language_info": {
   "codemirror_mode": {
    "name": "ipython",
    "version": 3
   },
   "file_extension": ".py",
   "mimetype": "text/x-python",
   "name": "python",
   "nbconvert_exporter": "python",
   "pygments_lexer": "ipython3",
   "version": "3.9.13"
  }
 },
 "nbformat": 4,
 "nbformat_minor": 5
}
